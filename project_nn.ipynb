{
  "nbformat": 4,
  "nbformat_minor": 0,
  "metadata": {
    "colab": {
      "name": "project.ipynb",
      "provenance": [],
      "collapsed_sections": [],
      "toc_visible": true
    },
    "kernelspec": {
      "name": "python3",
      "display_name": "Python 3"
    },
    "accelerator": "GPU"
  },
  "cells": [
    {
      "cell_type": "code",
      "metadata": {
        "id": "VEVs7XNXIJ4m",
        "colab_type": "code",
        "colab": {}
      },
      "source": [
        "from matplotlib.image import imread\n",
        "import matplotlib.pyplot as plt\n",
        "from datetime import datetime\n",
        "from pathlib import Path\n",
        "from tqdm import tqdm\n",
        "import pandas as pd\n",
        "import numpy as np\n",
        "import cv2\n",
        "import os"
      ],
      "execution_count": null,
      "outputs": []
    },
    {
      "cell_type": "code",
      "metadata": {
        "id": "bmO02gii2CfX",
        "colab_type": "code",
        "colab": {
          "base_uri": "https://localhost:8080/",
          "height": 124
        },
        "outputId": "e4d868c8-2e5f-4047-d972-47263d4cf96b"
      },
      "source": [
        "from google.colab import drive\n",
        "def initial_mount():\n",
        "  drive.mount('/content/drive')\n",
        "\n",
        "# to do when finish working\n",
        "def flush_changes():\n",
        "  drive.flush_and_unmount()\n",
        "  print('All changes made in this colab session should now be visible in Drive.')\n",
        "initial_mount()"
      ],
      "execution_count": null,
      "outputs": [
        {
          "output_type": "stream",
          "text": [
            "Go to this URL in a browser: https://accounts.google.com/o/oauth2/auth?client_id=947318989803-6bn6qk8qdgf4n4g3pfee6491hc0brc4i.apps.googleusercontent.com&redirect_uri=urn%3aietf%3awg%3aoauth%3a2.0%3aoob&scope=email%20https%3a%2f%2fwww.googleapis.com%2fauth%2fdocs.test%20https%3a%2f%2fwww.googleapis.com%2fauth%2fdrive%20https%3a%2f%2fwww.googleapis.com%2fauth%2fdrive.photos.readonly%20https%3a%2f%2fwww.googleapis.com%2fauth%2fpeopleapi.readonly&response_type=code\n",
            "\n",
            "Enter your authorization code:\n",
            "··········\n",
            "Mounted at /content/drive\n"
          ],
          "name": "stdout"
        }
      ]
    },
    {
      "cell_type": "code",
      "metadata": {
        "id": "N5NSf1_2tyYa",
        "colab_type": "code",
        "colab": {}
      },
      "source": [
        "# global parameters\n",
        "ROOT_FOLDER = '/content/drive/My Drive/Colab Notebooks/DSApps_snacks' # colab path\n",
        "# ROOT_FOLDER = r'C:\\Users\\maybe\\DSApps\\snacks_project\\project_images\\foods_final' # local path\n",
        "folders_name = [\"cakes_cupcakes_snack_cakes\", \"candy\", \"chips_pretzels_snacks\", \"chocolate\", \"cookies_biscuits\", \"popcorn_peanuts_seeds_related_snacks\"]\n",
        "\n",
        "TRAIN_VALID = 'foods_train_valid'\n",
        "FOOD_FINAL = 'foods_final'"
      ],
      "execution_count": null,
      "outputs": []
    },
    {
      "cell_type": "markdown",
      "metadata": {
        "id": "b2up3MZWwVa_",
        "colab_type": "text"
      },
      "source": [
        "## Creating Color's Histogram Of The \"Average\" Image By Category "
      ]
    },
    {
      "cell_type": "code",
      "metadata": {
        "id": "EzFlhkuew_CB",
        "colab_type": "code",
        "colab": {}
      },
      "source": [
        "def load_images(imgs_df, folder_name):\n",
        "  \"\"\"\n",
        "  Create dataframe from images by category, resize to 140x140 and reduce to rgb only (some images contains alpha layer).\n",
        "  \"\"\"\n",
        "  print(f\"starting working on {folder_name}\")\n",
        "  loop = 0\n",
        "  for entry in os.scandir(f\"{ROOT_FOLDER}/train/{folder_name}\"):\n",
        "    loop += 1\n",
        "    file = entry.name\n",
        "    img_full_path = os.path.join(ROOT_FOLDER, 'train', folder_name, file)\n",
        "    img = imread(img_full_path)\n",
        "    img_resize = cv2.resize(img, (140, 140))\n",
        "    imgs_df = imgs_df.append({'idx': file[:-4], 'img': img_resize[:,:,:3], 'category': folder_name}, ignore_index=True)\n",
        "    if loop % 1000 == 0:\n",
        "      print(f\"{loop}: {img_resize.shape} - {str(datetime.now().time())}\")\n",
        "  return imgs_df\n",
        "\n",
        "# define final dataframe with all images (as numpy array) by category\n",
        "cols = ['idx', 'img', 'category']\n",
        "imgs_df = pd.DataFrame(columns=cols)\n",
        "# iterate over folders\n",
        "for folder in folders_name:\n",
        "    imgs_df = load_images(imgs_df, folder_name=folder)"
      ],
      "execution_count": null,
      "outputs": []
    },
    {
      "cell_type": "code",
      "metadata": {
        "id": "iIoXa8FRwtpi",
        "colab_type": "code",
        "colab": {
          "base_uri": "https://localhost:8080/",
          "height": 139
        },
        "outputId": "a7d09dee-249e-4588-a49b-cb72cec54421"
      },
      "source": [
        "def histogram_by_category():\n",
        "  \"\"\"\n",
        "  Create dataframe of average images by category and color\n",
        "  \"\"\"\n",
        "  category_hist = pd.DataFrame()\n",
        "  for group, imgs in tqdm(imgs_df.groupby('category')['img']):\n",
        "    mean_imgs = np.zeros_like(imgs.iloc[0], dtype=np.float64)\n",
        "    for im in imgs:\n",
        "      mean_imgs += im.astype(np.float64) / len(imgs)\n",
        "    \n",
        "    # color = ('r','g','b')\n",
        "    category_hist[f'{group}_r'] = mean_imgs[:,:,0].flatten()\n",
        "    category_hist[f'{group}_g'] = mean_imgs[:,:,1].flatten()\n",
        "    category_hist[f'{group}_b'] = mean_imgs[:,:,2].flatten()\n",
        "\n",
        "  return category_hist\n",
        "\n",
        "test_hist = histogram_by_category()"
      ],
      "execution_count": null,
      "outputs": [
        {
          "output_type": "stream",
          "text": [
            " 33%|███▎      | 2/6 [00:00<00:00,  8.00it/s]"
          ],
          "name": "stderr"
        },
        {
          "output_type": "stream",
          "text": [
            "(140, 140)\n",
            "(140, 140)\n"
          ],
          "name": "stdout"
        },
        {
          "output_type": "stream",
          "text": [
            " 83%|████████▎ | 5/6 [00:00<00:00,  8.29it/s]"
          ],
          "name": "stderr"
        },
        {
          "output_type": "stream",
          "text": [
            "(140, 140)\n",
            "(140, 140)\n",
            "(140, 140)\n"
          ],
          "name": "stdout"
        },
        {
          "output_type": "stream",
          "text": [
            "100%|██████████| 6/6 [00:00<00:00,  8.43it/s]"
          ],
          "name": "stderr"
        },
        {
          "output_type": "stream",
          "text": [
            "(140, 140)\n"
          ],
          "name": "stdout"
        },
        {
          "output_type": "stream",
          "text": [
            "\n"
          ],
          "name": "stderr"
        }
      ]
    },
    {
      "cell_type": "code",
      "metadata": {
        "id": "x6PXOKws-__k",
        "colab_type": "code",
        "colab": {
          "base_uri": "https://localhost:8080/",
          "height": 226
        },
        "outputId": "f67feeec-b452-41b9-9562-3dc4f76f425c"
      },
      "source": [
        "test_hist.head()"
      ],
      "execution_count": null,
      "outputs": [
        {
          "output_type": "execute_result",
          "data": {
            "text/html": [
              "<div>\n",
              "<style scoped>\n",
              "    .dataframe tbody tr th:only-of-type {\n",
              "        vertical-align: middle;\n",
              "    }\n",
              "\n",
              "    .dataframe tbody tr th {\n",
              "        vertical-align: top;\n",
              "    }\n",
              "\n",
              "    .dataframe thead th {\n",
              "        text-align: right;\n",
              "    }\n",
              "</style>\n",
              "<table border=\"1\" class=\"dataframe\">\n",
              "  <thead>\n",
              "    <tr style=\"text-align: right;\">\n",
              "      <th></th>\n",
              "      <th>cakes_cupcakes_snack_cakes_r</th>\n",
              "      <th>cakes_cupcakes_snack_cakes_g</th>\n",
              "      <th>cakes_cupcakes_snack_cakes_b</th>\n",
              "      <th>candy_r</th>\n",
              "      <th>candy_g</th>\n",
              "      <th>candy_b</th>\n",
              "      <th>chips_pretzels_snacks_r</th>\n",
              "      <th>chips_pretzels_snacks_g</th>\n",
              "      <th>chips_pretzels_snacks_b</th>\n",
              "      <th>chocolate_r</th>\n",
              "      <th>chocolate_g</th>\n",
              "      <th>chocolate_b</th>\n",
              "      <th>cookies_biscuits_r</th>\n",
              "      <th>cookies_biscuits_g</th>\n",
              "      <th>cookies_biscuits_b</th>\n",
              "      <th>popcorn_peanuts_seeds_related_snacks_r</th>\n",
              "      <th>popcorn_peanuts_seeds_related_snacks_g</th>\n",
              "      <th>popcorn_peanuts_seeds_related_snacks_b</th>\n",
              "    </tr>\n",
              "  </thead>\n",
              "  <tbody>\n",
              "    <tr>\n",
              "      <th>0</th>\n",
              "      <td>209.519270</td>\n",
              "      <td>205.567951</td>\n",
              "      <td>202.795132</td>\n",
              "      <td>234.359862</td>\n",
              "      <td>229.351211</td>\n",
              "      <td>225.871972</td>\n",
              "      <td>240.879070</td>\n",
              "      <td>239.831008</td>\n",
              "      <td>236.893023</td>\n",
              "      <td>235.381057</td>\n",
              "      <td>232.526432</td>\n",
              "      <td>229.409692</td>\n",
              "      <td>229.643299</td>\n",
              "      <td>226.286598</td>\n",
              "      <td>224.173196</td>\n",
              "      <td>242.892019</td>\n",
              "      <td>242.571205</td>\n",
              "      <td>240.965571</td>\n",
              "    </tr>\n",
              "    <tr>\n",
              "      <th>1</th>\n",
              "      <td>209.935091</td>\n",
              "      <td>206.087221</td>\n",
              "      <td>203.182556</td>\n",
              "      <td>233.787197</td>\n",
              "      <td>228.906574</td>\n",
              "      <td>225.288927</td>\n",
              "      <td>240.381395</td>\n",
              "      <td>239.145736</td>\n",
              "      <td>236.184496</td>\n",
              "      <td>234.814978</td>\n",
              "      <td>232.000000</td>\n",
              "      <td>228.995595</td>\n",
              "      <td>228.964948</td>\n",
              "      <td>225.575258</td>\n",
              "      <td>223.682474</td>\n",
              "      <td>242.478873</td>\n",
              "      <td>241.976526</td>\n",
              "      <td>240.427230</td>\n",
              "    </tr>\n",
              "    <tr>\n",
              "      <th>2</th>\n",
              "      <td>210.225152</td>\n",
              "      <td>206.395538</td>\n",
              "      <td>203.373225</td>\n",
              "      <td>233.015571</td>\n",
              "      <td>228.401384</td>\n",
              "      <td>224.332180</td>\n",
              "      <td>239.933333</td>\n",
              "      <td>238.367442</td>\n",
              "      <td>235.409302</td>\n",
              "      <td>234.581498</td>\n",
              "      <td>231.574890</td>\n",
              "      <td>228.407489</td>\n",
              "      <td>229.098969</td>\n",
              "      <td>225.744330</td>\n",
              "      <td>224.006186</td>\n",
              "      <td>241.971831</td>\n",
              "      <td>241.328638</td>\n",
              "      <td>239.820031</td>\n",
              "    </tr>\n",
              "    <tr>\n",
              "      <th>3</th>\n",
              "      <td>210.383367</td>\n",
              "      <td>206.632860</td>\n",
              "      <td>203.509128</td>\n",
              "      <td>232.359862</td>\n",
              "      <td>228.077855</td>\n",
              "      <td>223.833910</td>\n",
              "      <td>240.134884</td>\n",
              "      <td>238.561240</td>\n",
              "      <td>235.441860</td>\n",
              "      <td>234.339207</td>\n",
              "      <td>231.099119</td>\n",
              "      <td>228.011013</td>\n",
              "      <td>229.348454</td>\n",
              "      <td>226.154639</td>\n",
              "      <td>224.317526</td>\n",
              "      <td>242.026604</td>\n",
              "      <td>241.233177</td>\n",
              "      <td>239.560250</td>\n",
              "    </tr>\n",
              "    <tr>\n",
              "      <th>4</th>\n",
              "      <td>210.584178</td>\n",
              "      <td>206.851927</td>\n",
              "      <td>203.647059</td>\n",
              "      <td>232.674740</td>\n",
              "      <td>228.131488</td>\n",
              "      <td>223.965398</td>\n",
              "      <td>240.156589</td>\n",
              "      <td>238.573643</td>\n",
              "      <td>235.141085</td>\n",
              "      <td>234.350220</td>\n",
              "      <td>230.854626</td>\n",
              "      <td>227.790749</td>\n",
              "      <td>229.577320</td>\n",
              "      <td>226.531959</td>\n",
              "      <td>224.672165</td>\n",
              "      <td>241.862285</td>\n",
              "      <td>241.068858</td>\n",
              "      <td>239.222222</td>\n",
              "    </tr>\n",
              "  </tbody>\n",
              "</table>\n",
              "</div>"
            ],
            "text/plain": [
              "   cakes_cupcakes_snack_cakes_r  ...  popcorn_peanuts_seeds_related_snacks_b\n",
              "0                    209.519270  ...                              240.965571\n",
              "1                    209.935091  ...                              240.427230\n",
              "2                    210.225152  ...                              239.820031\n",
              "3                    210.383367  ...                              239.560250\n",
              "4                    210.584178  ...                              239.222222\n",
              "\n",
              "[5 rows x 18 columns]"
            ]
          },
          "metadata": {
            "tags": []
          },
          "execution_count": 64
        }
      ]
    },
    {
      "cell_type": "code",
      "metadata": {
        "id": "FIoDkaPRxVa-",
        "colab_type": "code",
        "colab": {}
      },
      "source": [
        "# save dataframe to csv\n",
        "test_hist.to_csv(f\"{ROOT_FOLDER}/category_hist_by_rgb.csv\", header=True, index=False)"
      ],
      "execution_count": null,
      "outputs": []
    },
    {
      "cell_type": "markdown",
      "metadata": {
        "id": "pYg4EQbO6ghB",
        "colab_type": "text"
      },
      "source": [
        "## Creating Images Folders According To R Split\n",
        "\n",
        "I want to split the images in the same order as I splitted in R. This code splits train images directory according to R split."
      ]
    },
    {
      "cell_type": "code",
      "metadata": {
        "id": "dT1mkdCcH1tu",
        "colab_type": "code",
        "colab": {
          "base_uri": "https://localhost:8080/",
          "height": 86
        },
        "outputId": "474a5680-560a-4fc4-c164-b3195cc7183a"
      },
      "source": [
        "# path to csv files which contain the images name splited by R\n",
        "train_valid_sep_files = [(\"validation\", f'{ROOT_FOLDER}/correct_model/test_idx_category.csv'),\n",
        "                         (\"train\", f'{ROOT_FOLDER}/correct_model/train_idx_category.csv')]\n",
        "\n",
        "def _copy(self, target):\n",
        "  \"\"\"\n",
        "  copy file to target path\n",
        "  source: https://stackoverflow.com/questions/33625931/copy-file-with-pathlib-in-python\n",
        "  \"\"\"\n",
        "  import shutil\n",
        "  assert self.is_file()\n",
        "  shutil.copy(self, target)\n",
        "\n",
        "# add custom function to `Path` (python object from pathlib)\n",
        "Path.copy = _copy\n",
        "\n",
        "def copy_file_to_folder(src_file, dst_dir, file_name):\n",
        "  \"\"\"\n",
        "  copy file to target folder, create folder if not exists\n",
        "  \"\"\"\n",
        "  if not dst_dir.exists():\n",
        "    dst_dir.mkdir(parents=True, exist_ok=True)\n",
        "  dst_file = dst_dir / f\"{file_name}.jpg\"\n",
        "  src_file.copy(dst_file)\n",
        "\n",
        "def copy_by_df(df_path, dir_type):\n",
        "  \"\"\"\n",
        "  iterate over dataframe rows and copy images according it\n",
        "  \"\"\"\n",
        "  # destination folder (new folders orders)\n",
        "  train_valid_dir = Path(f'{ROOT_FOLDER}/correct_model/foods_train_valid') # new dir\n",
        "  train_dir = Path(f'{ROOT_FOLDER}/foods_final/train') # old dir\n",
        "  index_df = pd.read_csv(df_path)\n",
        "  \n",
        "  print(f'Starting copying {dir_type}')\n",
        "  for index, row in index_df.iterrows():\n",
        "    src_file = train_dir / row['category'] / f\"{row['idx']}.jpg\"\n",
        "    # dir_type - train / validation\n",
        "    dst_dir = train_valid_dir / dir_type / row['category']\n",
        "    copy_file_to_folder(src_file, dst_dir , file_name=row['idx'])\n",
        "  print(f'Done copying to {dir_type}, number of files: {len(index_df)}')\n",
        "\n",
        "# run over train/validation csv files\n",
        "for dir_type, dir_path in train_valid_sep_files:\n",
        "  copy_by_df(df_path=dir_path, dir_type=dir_type)"
      ],
      "execution_count": null,
      "outputs": [
        {
          "output_type": "stream",
          "text": [
            "Starting copying validation\n",
            "Done copying to validation, number of files: 6348\n",
            "Starting copying train\n",
            "Done copying to train, number of files: 25403\n"
          ],
          "name": "stdout"
        }
      ]
    },
    {
      "cell_type": "markdown",
      "metadata": {
        "id": "szOMYzviBF4f",
        "colab_type": "text"
      },
      "source": [
        "# Only Images Model - New"
      ]
    },
    {
      "cell_type": "code",
      "metadata": {
        "id": "6lHmRHeTBQNm",
        "colab_type": "code",
        "colab": {
          "base_uri": "https://localhost:8080/",
          "height": 34
        },
        "outputId": "b9c36a07-3bd5-4fed-8f95-fc905d29883a"
      },
      "source": [
        "%tensorflow_version 2.x\n",
        "import tensorflow as tf\n",
        "from keras.preprocessing.image import ImageDataGenerator\n",
        "from keras.layers import Conv2D, Flatten, Dense, Dropout, MaxPooling2D\n",
        "from keras import Sequential\n",
        "from keras.optimizers import Adam\n",
        "from keras.callbacks import EarlyStopping\n",
        "\n",
        "# check if GPU if available on Google Colab \n",
        "device_name = tf.test.gpu_device_name()\n",
        "if device_name != '/device:GPU:0':\n",
        "  raise SystemError('GPU device not found')\n",
        "print('Found GPU at: {}'.format(device_name))\n",
        "\n",
        "\n",
        "TRAIN_VALID = 'foods_train_valid'"
      ],
      "execution_count": null,
      "outputs": [
        {
          "output_type": "stream",
          "text": [
            "Found GPU at: /device:GPU:0\n"
          ],
          "name": "stdout"
        }
      ]
    },
    {
      "cell_type": "code",
      "metadata": {
        "id": "Ofs7BfTPBgGB",
        "colab_type": "code",
        "colab": {
          "base_uri": "https://localhost:8080/",
          "height": 52
        },
        "outputId": "e351ae8e-d83c-46d8-8f81-ff37e6805ee5"
      },
      "source": [
        "# images parameters\n",
        "img_height, img_width = 100, 100\n",
        "batch_size = 50\n",
        "train_data_dir = f\"{ROOT_FOLDER}/correct_model/{TRAIN_VALID}/train\"\n",
        "validation_data_dir = f\"{ROOT_FOLDER}/correct_model/{TRAIN_VALID}/validation\"\n",
        "\n",
        "with tf.device('/device:GPU:0'):  # use GPU\n",
        "  train_datagen = ImageDataGenerator(rescale=1./255) \n",
        "\n",
        "  # data generator for validation set \n",
        "  validation_datagen = ImageDataGenerator(rescale=1./255) \n",
        "\n",
        "  train_generator = train_datagen.flow_from_directory(\n",
        "      train_data_dir,\n",
        "      target_size=(img_height, img_width),\n",
        "      color_mode = \"rgb\",\n",
        "      batch_size=batch_size,\n",
        "      shuffle = True,\n",
        "      seed=123,\n",
        "      interpolation='bilinear',\n",
        "      subset='training') \n",
        "\n",
        "  validation_generator = validation_datagen.flow_from_directory(\n",
        "      validation_data_dir, \n",
        "      target_size=(img_height, img_width),\n",
        "      batch_size=batch_size,\n",
        "      color_mode = \"rgb\",\n",
        "      shuffle = False, \n",
        "      seed=123,\n",
        "      interpolation='bilinear' )"
      ],
      "execution_count": null,
      "outputs": [
        {
          "output_type": "stream",
          "text": [
            "Found 25403 images belonging to 6 classes.\n",
            "Found 6348 images belonging to 6 classes.\n"
          ],
          "name": "stdout"
        }
      ]
    },
    {
      "cell_type": "code",
      "metadata": {
        "id": "S5QnaAPeCEFx",
        "colab_type": "code",
        "colab": {
          "base_uri": "https://localhost:8080/",
          "height": 434
        },
        "outputId": "3b63072f-609f-4f79-c46a-f10c5106c615"
      },
      "source": [
        "nb_epochs = 50\n",
        "with tf.device('/device:GPU:0'):  # use GPU\n",
        "  # neural network model\n",
        "  model = Sequential()\n",
        "  model.add(Conv2D(filters=64, kernel_size=(3, 3), activation='relu', padding='same', input_shape=(img_height, img_width, 3)))\n",
        "  model.add(Conv2D(filters=64, kernel_size=(3, 3), activation='relu'))\n",
        "  model.add(MaxPooling2D(pool_size = (2,2)))\n",
        "\n",
        "  model.add(Conv2D(filters=128, kernel_size=(3, 3), activation='relu', padding='same'))\n",
        "  model.add(Conv2D(filters=128, kernel_size=(3, 3), activation='relu'))\n",
        "  model.add(MaxPooling2D(pool_size=(2,2)))\n",
        "\n",
        "  model.add(Flatten())\n",
        "  model.add(Dropout(0.5))\n",
        "  model.add(Dense(6, activation='softmax'))\n",
        "\n",
        "  model.compile(loss = 'categorical_crossentropy',\n",
        "                optimizer = 'adam',\n",
        "                metrics = ['accuracy'])\n",
        "\n",
        "  callback = [EarlyStopping(monitor='val_loss', patience=5, restore_best_weights=True)]\n",
        "\n",
        "  history = model.fit(\n",
        "      train_generator,\n",
        "      steps_per_epoch=train_generator.samples // batch_size,\n",
        "      validation_data=validation_generator, \n",
        "      validation_steps=validation_generator.samples // batch_size,\n",
        "      epochs=nb_epochs,\n",
        "      batch_size=batch_size,\n",
        "      callbacks=callback)"
      ],
      "execution_count": null,
      "outputs": [
        {
          "output_type": "stream",
          "text": [
            "Epoch 1/50\n",
            "508/508 [==============================] - 10751s 21s/step - loss: 1.5950 - accuracy: 0.3496 - val_loss: 1.4470 - val_accuracy: 0.4300\n",
            "Epoch 2/50\n",
            "508/508 [==============================] - 69s 137ms/step - loss: 1.3998 - accuracy: 0.4636 - val_loss: 1.3217 - val_accuracy: 0.5046\n",
            "Epoch 3/50\n",
            "508/508 [==============================] - 70s 138ms/step - loss: 1.2825 - accuracy: 0.5159 - val_loss: 1.2492 - val_accuracy: 0.5317\n",
            "Epoch 4/50\n",
            "508/508 [==============================] - 70s 138ms/step - loss: 1.1751 - accuracy: 0.5647 - val_loss: 1.2477 - val_accuracy: 0.5484\n",
            "Epoch 5/50\n",
            "508/508 [==============================] - 70s 138ms/step - loss: 1.0797 - accuracy: 0.6069 - val_loss: 1.1852 - val_accuracy: 0.5721\n",
            "Epoch 6/50\n",
            "508/508 [==============================] - 70s 138ms/step - loss: 0.9755 - accuracy: 0.6451 - val_loss: 1.1682 - val_accuracy: 0.5879\n",
            "Epoch 7/50\n",
            "508/508 [==============================] - 70s 138ms/step - loss: 0.8861 - accuracy: 0.6833 - val_loss: 1.1660 - val_accuracy: 0.5987\n",
            "Epoch 8/50\n",
            "508/508 [==============================] - 71s 140ms/step - loss: 0.7847 - accuracy: 0.7179 - val_loss: 1.1800 - val_accuracy: 0.6143\n",
            "Epoch 9/50\n",
            "508/508 [==============================] - 70s 139ms/step - loss: 0.7052 - accuracy: 0.7489 - val_loss: 1.2231 - val_accuracy: 0.6035\n",
            "Epoch 10/50\n",
            "508/508 [==============================] - 70s 139ms/step - loss: 0.6378 - accuracy: 0.7727 - val_loss: 1.2120 - val_accuracy: 0.6237\n",
            "Epoch 11/50\n",
            "508/508 [==============================] - 70s 139ms/step - loss: 0.5691 - accuracy: 0.8000 - val_loss: 1.2682 - val_accuracy: 0.6210\n",
            "Epoch 12/50\n",
            "508/508 [==============================] - 72s 141ms/step - loss: 0.5361 - accuracy: 0.8098 - val_loss: 1.2972 - val_accuracy: 0.6252\n"
          ],
          "name": "stdout"
        }
      ]
    },
    {
      "cell_type": "code",
      "metadata": {
        "id": "6ixlUc8OCKE2",
        "colab_type": "code",
        "colab": {}
      },
      "source": [
        "# save model\n",
        "model.save(f\"{ROOT_FOLDER}/correct_model/nn_model_images_only_new.h5\")"
      ],
      "execution_count": null,
      "outputs": []
    },
    {
      "cell_type": "markdown",
      "metadata": {
        "id": "ez1sHwb6OxL_",
        "colab_type": "text"
      },
      "source": [
        "# Nueral Network - Images + Final Features From R - New"
      ]
    },
    {
      "cell_type": "code",
      "metadata": {
        "id": "A9WGKw43OyVq",
        "colab_type": "code",
        "colab": {}
      },
      "source": [
        "from keras.preprocessing.image import ImageDataGenerator, DirectoryIterator\n",
        "from keras.layers import Input, Concatenate, Activation\n",
        "from keras.layers.merge import concatenate\n",
        "from keras.models import load_model\n",
        "from keras.utils import plot_model\n",
        "from keras import Model\n",
        "import re"
      ],
      "execution_count": null,
      "outputs": []
    },
    {
      "cell_type": "markdown",
      "metadata": {
        "id": "2amXdCChO4ZK",
        "colab_type": "text"
      },
      "source": [
        "### Numerical Features\n",
        "A csv files containing numerical feature after preprocessing and feature extrection."
      ]
    },
    {
      "cell_type": "code",
      "metadata": {
        "id": "aGcGQQPzO7bw",
        "colab_type": "code",
        "colab": {}
      },
      "source": [
        "# train numerical feature processed in R\n",
        "train_combained_df = pd.read_csv(f'{ROOT_FOLDER}/correct_model/train_combained_for_python.csv')\n",
        "train_combained_df.drop('category', axis=1, inplace=True)"
      ],
      "execution_count": null,
      "outputs": []
    },
    {
      "cell_type": "code",
      "metadata": {
        "id": "NfRBHnG0PAa1",
        "colab_type": "code",
        "colab": {}
      },
      "source": [
        "# validation numerical feature processed in R\n",
        "validation_combained_df = pd.read_csv(f'{ROOT_FOLDER}/correct_model/validation_combained_for_python.csv')\n",
        "validation_combained_df.drop('category', axis=1, inplace=True)"
      ],
      "execution_count": null,
      "outputs": []
    },
    {
      "cell_type": "code",
      "metadata": {
        "id": "wr-STWluPCIn",
        "colab_type": "code",
        "colab": {
          "base_uri": "https://localhost:8080/",
          "height": 34
        },
        "outputId": "7a754012-00b3-471c-a6f7-b194e829e6f1"
      },
      "source": [
        "train_combained_df.shape"
      ],
      "execution_count": null,
      "outputs": [
        {
          "output_type": "execute_result",
          "data": {
            "text/plain": [
              "(25403, 277)"
            ]
          },
          "metadata": {
            "tags": []
          },
          "execution_count": 12
        }
      ]
    },
    {
      "cell_type": "markdown",
      "metadata": {
        "id": "fjtm2ntRPFvo",
        "colab_type": "text"
      },
      "source": [
        "### Images and Feature Generator\n",
        "A generator class which generate images, numerical features and lables in a batch."
      ]
    },
    {
      "cell_type": "code",
      "metadata": {
        "id": "Iin4YjOXPGlF",
        "colab_type": "code",
        "colab": {}
      },
      "source": [
        "# images parameters\n",
        "img_height, img_width = 100, 100\n",
        "batch_size = 50\n",
        "train_data_dir = f\"{ROOT_FOLDER}/correct_model/{TRAIN_VALID}/train\"\n",
        "validation_data_dir = f\"{ROOT_FOLDER}/correct_model/{TRAIN_VALID}/validation\""
      ],
      "execution_count": null,
      "outputs": []
    },
    {
      "cell_type": "code",
      "metadata": {
        "id": "-NkKSuB1PIxq",
        "colab_type": "code",
        "colab": {}
      },
      "source": [
        "class ImageWithNames(DirectoryIterator):\n",
        "  \"\"\"\n",
        "  Create customize `DirectoryIterator` (from tensorflow) to generate images, row from dataframe and labels.\n",
        "  from: https://stackoverflow.com/questions/41715025/keras-flowfromdirectory-get-file-names-as-they-are-being-generated\n",
        "  \"\"\"\n",
        "  def __init__(self, *args, df_attr=None, **kwargs):\n",
        "    super().__init__(*args, **kwargs)\n",
        "    # file names as numpy array\n",
        "    self.filenames_np = np.array(self.filenames)\n",
        "    # dataframe of numerical features processed in R\n",
        "    self.df_attr = df_attr\n",
        "\n",
        "  def get_idx_row_as_np(self, row_idx):\n",
        "    \"\"\"\n",
        "    Extract row by `idx` and convert to numpy array\n",
        "    \"\"\"\n",
        "    selected = self.df_attr[self.df_attr['idx'] == int(re.findall(r'\\d+', row_idx)[0])]\n",
        "    # remove idx from selected row (the model shouldn't get idx)\n",
        "    select_witout_idx = selected.loc[:, ~selected.columns.isin(['idx'])]\n",
        "    return np.array(select_witout_idx.values[0], dtype=np.float32)\n",
        "\n",
        "\n",
        "  def _get_batches_of_transformed_samples(self, index_array):\n",
        "    \"\"\"\n",
        "    new implementation for `_get_batches_of_transformed_samples` to add row of numerical feature processed in R. \n",
        "    \"\"\"\n",
        "    if self.df_attr.empty is not None:\n",
        "      # self.filenames_np[index_array] - get all batch file names\n",
        "      attr_rows = np.array([self.get_idx_row_as_np(row_idx) for row_idx in self.filenames_np[index_array]], dtype=np.float32)\n",
        "      \n",
        "      if self.class_mode is not None:\n",
        "        # For train and validation only: return images and features and y  \n",
        "        x, y = super()._get_batches_of_transformed_samples(index_array)\n",
        "        return [x, attr_rows], y\n",
        "      else:\n",
        "        # for test: return images and features only\n",
        "        return [super()._get_batches_of_transformed_samples(index_array), attr_rows]"
      ],
      "execution_count": null,
      "outputs": []
    },
    {
      "cell_type": "markdown",
      "metadata": {
        "id": "XMMwgzwMPTlF",
        "colab_type": "text"
      },
      "source": [
        "##  Images + Features Model"
      ]
    },
    {
      "cell_type": "code",
      "metadata": {
        "id": "Gs3pBhtDPUxl",
        "colab_type": "code",
        "colab": {}
      },
      "source": [
        "# images parameters\n",
        "img_height, img_width = 100, 100\n",
        "batch_size = 32\n",
        "train_data_dir = f\"{ROOT_FOLDER}/correct_model/{TRAIN_VALID}/train\"\n",
        "validation_data_dir = f\"{ROOT_FOLDER}/correct_model/{TRAIN_VALID}/validation\""
      ],
      "execution_count": null,
      "outputs": []
    },
    {
      "cell_type": "code",
      "metadata": {
        "id": "GdIYcC_CPYCP",
        "colab_type": "code",
        "colab": {
          "base_uri": "https://localhost:8080/",
          "height": 52
        },
        "outputId": "f53615dd-7370-4a8c-b937-e39c0a7d3538"
      },
      "source": [
        "# create images and dataframe generator\n",
        "with tf.device('/device:GPU:0'): # use GPU\n",
        "  train_datagen = ImageDataGenerator(rescale=1./255,\n",
        "    rotation_range = 30,\n",
        "    zoom_range = 0.15,\n",
        "    width_shift_range = 0.2,\n",
        "    height_shift_range = 0.2\n",
        "    ) \n",
        "\n",
        "  # data generator for validation set \n",
        "  validation_datagen = ImageDataGenerator(rescale=1./255) \n",
        "\n",
        "  train_generator = ImageWithNames(\n",
        "      train_data_dir,\n",
        "      train_datagen,\n",
        "      df_attr=train_combained_df,\n",
        "      target_size=(img_height, img_width),\n",
        "      color_mode = \"rgb\",\n",
        "      batch_size=batch_size,\n",
        "      shuffle = True,\n",
        "      seed=123,\n",
        "      interpolation='bilinear',\n",
        "      subset='training') \n",
        "\n",
        "  validation_generator = ImageWithNames(\n",
        "      validation_data_dir,\n",
        "       validation_datagen,\n",
        "      df_attr=validation_combained_df,\n",
        "      target_size=(img_height, img_width),\n",
        "      batch_size=batch_size,\n",
        "      color_mode = \"rgb\",\n",
        "      shuffle = False, \n",
        "      seed=123,\n",
        "      interpolation='bilinear') "
      ],
      "execution_count": null,
      "outputs": [
        {
          "output_type": "stream",
          "text": [
            "Found 25403 images belonging to 6 classes.\n",
            "Found 6348 images belonging to 6 classes.\n"
          ],
          "name": "stdout"
        }
      ]
    },
    {
      "cell_type": "code",
      "metadata": {
        "id": "8nt__LshPj-L",
        "colab_type": "code",
        "colab": {}
      },
      "source": [
        "with tf.device('/device:GPU:0'):\n",
        "  # Images Network\n",
        "  images_in = Input(shape=(img_height, img_width, 3), name = 'img_model')\n",
        "\n",
        "  images_out = Conv2D(filters=64, kernel_size=(3, 3), activation='relu', padding='same')(images_in)\n",
        "  images_out = Conv2D(filters=64, kernel_size=(3, 3), activation='relu')(images_out)\n",
        "  images_out = MaxPooling2D(pool_size = (2,2))(images_out)\n",
        "\n",
        "  images_out = Conv2D(filters=128, kernel_size=(3, 3), activation='relu', padding='same')(images_out)\n",
        "  images_out = Conv2D(filters=128, kernel_size=(3, 3), activation='relu')(images_out)\n",
        "  images_out = MaxPooling2D(pool_size=(2,2))(images_out)\n",
        "\n",
        "  images_out = Dropout(0.5)(images_out)\n",
        "  images_out = Flatten()(images_out)\n",
        "\n",
        "  img_model = Model(images_in, images_out)"
      ],
      "execution_count": null,
      "outputs": []
    },
    {
      "cell_type": "code",
      "metadata": {
        "id": "TBsRl5dVPkvq",
        "colab_type": "code",
        "colab": {}
      },
      "source": [
        "with tf.device('/device:GPU:0'):\n",
        "  # Numerical Features Network\n",
        "  atrr_in = Input(shape=(276,), name = 'attr_model')\n",
        "  atrr_out = Dense(128, activation=\"relu\")(atrr_in)\n",
        "  atrr_out = Dropout(0.5)(atrr_out)\n",
        "  atrr_out = Flatten()(atrr_out)\n",
        "\n",
        "  attr_model = Model(atrr_in, atrr_out)"
      ],
      "execution_count": null,
      "outputs": []
    },
    {
      "cell_type": "code",
      "metadata": {
        "id": "VnsJc-JDPo3F",
        "colab_type": "code",
        "colab": {
          "base_uri": "https://localhost:8080/",
          "height": 399
        },
        "outputId": "9dc54a41-ed74-4b4b-c579-fd1d84e35a69"
      },
      "source": [
        "nb_epochs = 50\n",
        "with tf.device('/device:GPU:0'):\n",
        "  concatenated = concatenate([images_out, atrr_out])\n",
        "  out = Dense(6, activation='softmax')(concatenated)\n",
        "\n",
        "  comb_model = Model([img_model.input, attr_model.input], out)\n",
        "\n",
        "  comb_model.compile(loss = 'categorical_crossentropy',\n",
        "                  optimizer = 'adam',\n",
        "                  metrics = ['accuracy'])\n",
        "\n",
        "  callback = [EarlyStopping(monitor='val_loss', patience=5, restore_best_weights=True)]\n",
        "\n",
        "  history = comb_model.fit(\n",
        "      train_generator,\n",
        "      steps_per_epoch=train_generator.samples // batch_size,\n",
        "      validation_data=validation_generator, \n",
        "      validation_steps=validation_generator.samples // batch_size,\n",
        "      epochs=nb_epochs,\n",
        "      batch_size=batch_size,\n",
        "      callbacks=callback)"
      ],
      "execution_count": null,
      "outputs": [
        {
          "output_type": "stream",
          "text": [
            "Epoch 1/50\n",
            "793/793 [==============================] - 173s 218ms/step - loss: 0.4031 - accuracy: 0.8653 - val_loss: 0.2197 - val_accuracy: 0.9250\n",
            "Epoch 2/50\n",
            "793/793 [==============================] - 172s 217ms/step - loss: 0.2507 - accuracy: 0.9148 - val_loss: 0.2113 - val_accuracy: 0.9288\n",
            "Epoch 3/50\n",
            "793/793 [==============================] - 171s 216ms/step - loss: 0.2250 - accuracy: 0.9227 - val_loss: 0.2072 - val_accuracy: 0.9309\n",
            "Epoch 4/50\n",
            "793/793 [==============================] - 173s 219ms/step - loss: 0.2126 - accuracy: 0.9281 - val_loss: 0.2026 - val_accuracy: 0.9334\n",
            "Epoch 5/50\n",
            "793/793 [==============================] - 173s 218ms/step - loss: 0.2029 - accuracy: 0.9294 - val_loss: 0.2050 - val_accuracy: 0.9321\n",
            "Epoch 6/50\n",
            "793/793 [==============================] - 173s 219ms/step - loss: 0.1903 - accuracy: 0.9335 - val_loss: 0.2013 - val_accuracy: 0.9339\n",
            "Epoch 7/50\n",
            "793/793 [==============================] - 172s 217ms/step - loss: 0.1812 - accuracy: 0.9359 - val_loss: 0.2061 - val_accuracy: 0.9337\n",
            "Epoch 8/50\n",
            "793/793 [==============================] - 173s 218ms/step - loss: 0.1789 - accuracy: 0.9373 - val_loss: 0.2085 - val_accuracy: 0.9320\n",
            "Epoch 9/50\n",
            "793/793 [==============================] - 173s 218ms/step - loss: 0.1705 - accuracy: 0.9419 - val_loss: 0.2077 - val_accuracy: 0.9340\n",
            "Epoch 10/50\n",
            "793/793 [==============================] - 174s 219ms/step - loss: 0.1628 - accuracy: 0.9430 - val_loss: 0.2119 - val_accuracy: 0.9345\n",
            "Epoch 11/50\n",
            "793/793 [==============================] - 174s 219ms/step - loss: 0.1610 - accuracy: 0.9428 - val_loss: 0.2067 - val_accuracy: 0.9370\n"
          ],
          "name": "stdout"
        }
      ]
    },
    {
      "cell_type": "code",
      "metadata": {
        "id": "yMINBe88Pv5e",
        "colab_type": "code",
        "colab": {
          "base_uri": "https://localhost:8080/",
          "height": 265
        },
        "outputId": "e69161a3-5f91-4b3c-c7f3-42840a389d58"
      },
      "source": [
        "pd.DataFrame(history.history).plot()\n",
        "plt.grid(True)\n",
        "plt.show()"
      ],
      "execution_count": null,
      "outputs": [
        {
          "output_type": "display_data",
          "data": {
            "image/png": "[encoded data removed]",
            "text/plain": [
              "<Figure size 432x288 with 1 Axes>"
            ]
          },
          "metadata": {
            "tags": [],
            "needs_background": "light"
          }
        }
      ]
    },
    {
      "cell_type": "code",
      "metadata": {
        "id": "BjUsfytyPzbM",
        "colab_type": "code",
        "colab": {
          "base_uri": "https://localhost:8080/",
          "height": 1000
        },
        "outputId": "f62a7a49-4961-4c90-91dc-5e609ce3e2cc"
      },
      "source": [
        "plot_model(comb_model, f'{ROOT_FOLDER}/correct_model/comb_model_diagram_new.png', show_shapes=True)"
      ],
      "execution_count": null,
      "outputs": [
        {
          "output_type": "execute_result",
          "data": {
            "image/png": "[encoded data removed]",
            "text/plain": [
              "<IPython.core.display.Image object>"
            ]
          },
          "metadata": {
            "tags": []
          },
          "execution_count": 31
        }
      ]
    },
    {
      "cell_type": "code",
      "metadata": {
        "id": "jyo4Y0ZdP4CY",
        "colab_type": "code",
        "colab": {}
      },
      "source": [
        "# save model\n",
        "comb_model.save(f'{ROOT_FOLDER}/correct_model/final_nn_comb_model_images_numerical_new.h5')"
      ],
      "execution_count": null,
      "outputs": []
    },
    {
      "cell_type": "markdown",
      "metadata": {
        "id": "OeULwIieOSPA",
        "colab_type": "text"
      },
      "source": [
        "# Nueral Network - Numerical Feature Only (From R) - New"
      ]
    },
    {
      "cell_type": "code",
      "metadata": {
        "id": "AMZF766XOUAk",
        "colab_type": "code",
        "colab": {}
      },
      "source": [
        "# read the numerical train data and drop idx\n",
        "train_df = pd.read_csv(f'{ROOT_FOLDER}/correct_model/train_combained_for_python.csv')\n",
        "train_df.drop('idx', axis=1, inplace=True)\n",
        "\n",
        "# read the numerical validation data and drop idx\n",
        "validation_df = pd.read_csv(f'{ROOT_FOLDER}/correct_model/validation_combained_for_python.csv')\n",
        "validation_df.drop('idx', axis=1, inplace=True)"
      ],
      "execution_count": null,
      "outputs": []
    },
    {
      "cell_type": "code",
      "metadata": {
        "id": "h1R_WmJoOWDR",
        "colab_type": "code",
        "colab": {}
      },
      "source": [
        "# partition to data and lables\n",
        "X_train = train_df.loc[:, ~train_df.columns.isin(['category'])]\n",
        "y_train = train_df['category']\n",
        "\n",
        "X_val = validation_df.loc[:, ~validation_df.columns.isin(['category'])]\n",
        "y_val = validation_df['category']"
      ],
      "execution_count": null,
      "outputs": []
    },
    {
      "cell_type": "code",
      "metadata": {
        "id": "v5BCDmQoOXy5",
        "colab_type": "code",
        "colab": {}
      },
      "source": [
        "from sklearn.preprocessing import LabelEncoder\n",
        "from keras.utils import to_categorical\n",
        "le = LabelEncoder()\n",
        "le.fit(y_train)\n",
        "# transform y labels to numerical\n",
        "y_train_enc = to_categorical(le.transform(y_train), num_classes=6)\n",
        "y_val_enc = to_categorical(le.transform(y_val), num_classes=6)"
      ],
      "execution_count": null,
      "outputs": []
    },
    {
      "cell_type": "code",
      "metadata": {
        "id": "86pqaqPOOZ4w",
        "colab_type": "code",
        "colab": {
          "base_uri": "https://localhost:8080/",
          "height": 330
        },
        "outputId": "88c391ad-cea3-4590-9b9b-93fbf8b18d58"
      },
      "source": [
        "nb_epochs = 50\n",
        "batch_size = 32\n",
        "with tf.device('/device:GPU:0'):\n",
        "  atrr_in = Input(shape=(276,), name = 'attr_model')\n",
        "  atrr_out = Dense(128, activation=\"relu\")(atrr_in)\n",
        "  atrr_out = Dropout(0.5)(atrr_out)\n",
        "  atrr_out = Flatten()(atrr_out)\n",
        "  atrr_out = Dense(6, activation='softmax')(atrr_out)\n",
        "\n",
        "  attr_model = Model(atrr_in, atrr_out)\n",
        "\n",
        "  attr_model.compile(loss = 'categorical_crossentropy',\n",
        "                  optimizer = 'adam',\n",
        "                  metrics = ['accuracy'])\n",
        "\n",
        "  callback = [EarlyStopping(monitor='val_loss', patience=5, restore_best_weights=True)]\n",
        "\n",
        "  attr_history = attr_model.fit(\n",
        "      X_train,\n",
        "      y_train_enc,\n",
        "      steps_per_epoch=len(X_train) // batch_size,\n",
        "      validation_data=(X_val, y_val_enc), \n",
        "      validation_steps=len(X_val) // batch_size,\n",
        "      epochs=nb_epochs,\n",
        "      batch_size=batch_size,\n",
        "      callbacks=callback)"
      ],
      "execution_count": null,
      "outputs": [
        {
          "output_type": "stream",
          "text": [
            "Epoch 1/50\n",
            "793/793 [==============================] - 2s 3ms/step - loss: 0.4270 - accuracy: 0.8575 - val_loss: 0.2236 - val_accuracy: 0.9252\n",
            "Epoch 2/50\n",
            "793/793 [==============================] - 2s 3ms/step - loss: 0.2623 - accuracy: 0.9099 - val_loss: 0.2078 - val_accuracy: 0.9317\n",
            "Epoch 3/50\n",
            "793/793 [==============================] - 2s 3ms/step - loss: 0.2331 - accuracy: 0.9217 - val_loss: 0.2094 - val_accuracy: 0.9302\n",
            "Epoch 4/50\n",
            "793/793 [==============================] - 2s 3ms/step - loss: 0.2146 - accuracy: 0.9285 - val_loss: 0.2016 - val_accuracy: 0.9350\n",
            "Epoch 5/50\n",
            "793/793 [==============================] - 2s 3ms/step - loss: 0.1991 - accuracy: 0.9314 - val_loss: 0.2047 - val_accuracy: 0.9337\n",
            "Epoch 6/50\n",
            "793/793 [==============================] - 2s 3ms/step - loss: 0.1942 - accuracy: 0.9328 - val_loss: 0.2028 - val_accuracy: 0.9328\n",
            "Epoch 7/50\n",
            "793/793 [==============================] - 2s 3ms/step - loss: 0.1827 - accuracy: 0.9387 - val_loss: 0.2076 - val_accuracy: 0.9343\n",
            "Epoch 8/50\n",
            "793/793 [==============================] - 2s 3ms/step - loss: 0.1807 - accuracy: 0.9364 - val_loss: 0.2061 - val_accuracy: 0.9345\n",
            "Epoch 9/50\n",
            "793/793 [==============================] - 2s 3ms/step - loss: 0.1698 - accuracy: 0.9405 - val_loss: 0.2036 - val_accuracy: 0.9343\n"
          ],
          "name": "stdout"
        }
      ]
    },
    {
      "cell_type": "code",
      "metadata": {
        "id": "aRFu0F6sOddb",
        "colab_type": "code",
        "colab": {}
      },
      "source": [
        "# save model \n",
        "# model numerical only\n",
        "attr_model.save(f'{ROOT_FOLDER}/correct_model/final_nn_numeric_only_new.h5')"
      ],
      "execution_count": null,
      "outputs": []
    },
    {
      "cell_type": "markdown",
      "metadata": {
        "id": "KQ8BjsaTVDW2",
        "colab_type": "text"
      },
      "source": [
        "# Test Prediction\n"
      ]
    },
    {
      "cell_type": "code",
      "metadata": {
        "id": "HZeVwIlkYI9_",
        "colab_type": "code",
        "colab": {}
      },
      "source": [
        "# load model\n",
        "final_model = load_model(f'{ROOT_FOLDER}/correct_model/final_nn_comb_model_images_numerical_new.h5')"
      ],
      "execution_count": null,
      "outputs": []
    },
    {
      "cell_type": "code",
      "metadata": {
        "id": "MChuQ3r0aFJz",
        "colab_type": "code",
        "colab": {}
      },
      "source": [
        "test_combained_df = pd.read_csv(f'{ROOT_FOLDER}/correct_model/test_data_to_predict_python.csv')"
      ],
      "execution_count": null,
      "outputs": []
    },
    {
      "cell_type": "code",
      "metadata": {
        "id": "pSBdrm2BV4MA",
        "colab_type": "code",
        "colab": {
          "base_uri": "https://localhost:8080/",
          "height": 34
        },
        "outputId": "51328251-0fda-4070-e338-e365e5405b63"
      },
      "source": [
        "test_data_dir = f\"{ROOT_FOLDER}/{FOOD_FINAL}\"\n",
        "\n",
        "with tf.device('/device:GPU:0'):\n",
        "  # data generator for test set\n",
        "  test_datagen = ImageDataGenerator(rescale = 1./255)\n",
        "  # generator for reading test data from folder\n",
        "  test_generator = ImageWithNames(\n",
        "      test_data_dir,\n",
        "      test_datagen,\n",
        "      df_attr=test_combained_df,\n",
        "      target_size = (img_height, img_width),\n",
        "      seed=123,\n",
        "      batch_size = 1,\n",
        "      interpolation='bilinear',\n",
        "      shuffle = False, \n",
        "      class_mode=None,\n",
        "      classes=['test'])"
      ],
      "execution_count": null,
      "outputs": [
        {
          "output_type": "stream",
          "text": [
            "Found 3525 images belonging to 1 classes.\n"
          ],
          "name": "stdout"
        }
      ]
    },
    {
      "cell_type": "code",
      "metadata": {
        "id": "WC9e_erOV5WI",
        "colab_type": "code",
        "colab": {
          "base_uri": "https://localhost:8080/",
          "height": 34
        },
        "outputId": "2af0e31c-eb87-4237-ad1e-eeca48a54ac9"
      },
      "source": [
        "with tf.device('/device:GPU:0'):\n",
        "  prediction = final_model.predict(\n",
        "      test_generator,\n",
        "      verbose=1,\n",
        "      batch_size=batch_size,\n",
        "      steps=test_generator.samples)"
      ],
      "execution_count": null,
      "outputs": [
        {
          "output_type": "stream",
          "text": [
            "3525/3525 [==============================] - 1343s 381ms/step\n"
          ],
          "name": "stdout"
        }
      ]
    },
    {
      "cell_type": "code",
      "metadata": {
        "id": "t68salFaWver",
        "colab_type": "code",
        "colab": {}
      },
      "source": [
        "# use argmax to get model prediction lable\n",
        "predicted_classes = np.argmax(prediction, axis=1)\n",
        "# map class name to numeric according to training generator\n",
        "l = {v: k for k,v in train_generator.class_indices.items()}\n",
        "# convert each numeric prediction to lable name\n",
        "pred_names = [l[k] for k in predicted_classes]\n",
        "# get file names - sanity check\n",
        "file_names = test_generator.filenames\n",
        "# get indexes\n",
        "idx_preds = [int(re.findall(r'\\d+', f_name)[0]) for f_name in test_generator.filenames]"
      ],
      "execution_count": null,
      "outputs": []
    },
    {
      "cell_type": "code",
      "metadata": {
        "id": "HJTyBjUlAjIJ",
        "colab_type": "code",
        "colab": {
          "base_uri": "https://localhost:8080/",
          "height": 34
        },
        "outputId": "d4c18726-b83e-4e5f-fe45-acf7af746c4b"
      },
      "source": [
        "len(file_names)"
      ],
      "execution_count": null,
      "outputs": [
        {
          "output_type": "execute_result",
          "data": {
            "text/plain": [
              "3525"
            ]
          },
          "metadata": {
            "tags": []
          },
          "execution_count": 50
        }
      ]
    },
    {
      "cell_type": "code",
      "metadata": {
        "id": "TzBwAB76XTVz",
        "colab_type": "code",
        "colab": {
          "base_uri": "https://localhost:8080/",
          "height": 206
        },
        "outputId": "10f6f18a-3241-4dc5-bfae-7b169547d9d3"
      },
      "source": [
        "final_df = pd.DataFrame({'idx': idx_preds, 'Filename': file_names,'Prediction': pred_names})\n",
        "final_df.head(5)"
      ],
      "execution_count": null,
      "outputs": [
        {
          "output_type": "execute_result",
          "data": {
            "text/html": [
              "<div>\n",
              "<style scoped>\n",
              "    .dataframe tbody tr th:only-of-type {\n",
              "        vertical-align: middle;\n",
              "    }\n",
              "\n",
              "    .dataframe tbody tr th {\n",
              "        vertical-align: top;\n",
              "    }\n",
              "\n",
              "    .dataframe thead th {\n",
              "        text-align: right;\n",
              "    }\n",
              "</style>\n",
              "<table border=\"1\" class=\"dataframe\">\n",
              "  <thead>\n",
              "    <tr style=\"text-align: right;\">\n",
              "      <th></th>\n",
              "      <th>idx</th>\n",
              "      <th>Filename</th>\n",
              "      <th>Prediction</th>\n",
              "    </tr>\n",
              "  </thead>\n",
              "  <tbody>\n",
              "    <tr>\n",
              "      <th>0</th>\n",
              "      <td>10023</td>\n",
              "      <td>test/10023.jpg</td>\n",
              "      <td>chips_pretzels_snacks</td>\n",
              "    </tr>\n",
              "    <tr>\n",
              "      <th>1</th>\n",
              "      <td>10026</td>\n",
              "      <td>test/10026.jpg</td>\n",
              "      <td>popcorn_peanuts_seeds_related_snacks</td>\n",
              "    </tr>\n",
              "    <tr>\n",
              "      <th>2</th>\n",
              "      <td>10035</td>\n",
              "      <td>test/10035.jpg</td>\n",
              "      <td>cakes_cupcakes_snack_cakes</td>\n",
              "    </tr>\n",
              "    <tr>\n",
              "      <th>3</th>\n",
              "      <td>10036</td>\n",
              "      <td>test/10036.jpg</td>\n",
              "      <td>candy</td>\n",
              "    </tr>\n",
              "    <tr>\n",
              "      <th>4</th>\n",
              "      <td>10052</td>\n",
              "      <td>test/10052.jpg</td>\n",
              "      <td>popcorn_peanuts_seeds_related_snacks</td>\n",
              "    </tr>\n",
              "  </tbody>\n",
              "</table>\n",
              "</div>"
            ],
            "text/plain": [
              "     idx        Filename                            Prediction\n",
              "0  10023  test/10023.jpg                 chips_pretzels_snacks\n",
              "1  10026  test/10026.jpg  popcorn_peanuts_seeds_related_snacks\n",
              "2  10035  test/10035.jpg            cakes_cupcakes_snack_cakes\n",
              "3  10036  test/10036.jpg                                 candy\n",
              "4  10052  test/10052.jpg  popcorn_peanuts_seeds_related_snacks"
            ]
          },
          "metadata": {
            "tags": []
          },
          "execution_count": 51
        }
      ]
    },
    {
      "cell_type": "code",
      "metadata": {
        "id": "4UxLdr0OvDKD",
        "colab_type": "code",
        "colab": {}
      },
      "source": [
        "final_df.to_csv(f'{ROOT_FOLDER}/correct_model/final_nn_preds_03.csv', index = False)"
      ],
      "execution_count": null,
      "outputs": []
    }
  ]
}